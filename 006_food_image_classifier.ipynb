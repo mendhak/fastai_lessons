{
 "cells": [
  {
   "cell_type": "code",
   "execution_count": null,
   "metadata": {},
   "outputs": [],
   "source": [
    "# Workaround for training output not visible in JupyterNotebook https://github.com/microsoft/vscode-jupyter/issues/13163\n",
    "from IPython.display import clear_output, DisplayHandle\n",
    "def update_patch(self, obj):\n",
    "    clear_output(wait=True)\n",
    "    self.display(obj)\n",
    "DisplayHandle.update = update_patch"
   ]
  },
  {
   "cell_type": "code",
   "execution_count": null,
   "metadata": {},
   "outputs": [],
   "source": [
    "from fastai.vision.all import *\n",
    "import pandas as pd"
   ]
  },
  {
   "cell_type": "code",
   "execution_count": null,
   "metadata": {},
   "outputs": [],
   "source": [
    "foodPath = untar_data(URLs.FOOD)"
   ]
  },
  {
   "cell_type": "code",
   "execution_count": null,
   "metadata": {},
   "outputs": [],
   "source": [
    "get_image_files(foodPath)[0:15]"
   ]
  },
  {
   "cell_type": "code",
   "execution_count": null,
   "metadata": {},
   "outputs": [],
   "source": [
    "print(os.listdir(foodPath))"
   ]
  },
  {
   "cell_type": "code",
   "execution_count": null,
   "metadata": {},
   "outputs": [],
   "source": [
    "image_dir_path = foodPath/'images'\n",
    "image_categories = os.listdir(image_dir_path)\n",
    "print(image_categories[0:10])"
   ]
  },
  {
   "cell_type": "code",
   "execution_count": null,
   "metadata": {},
   "outputs": [],
   "source": [
    "img = PILImage.create('/home/mendhak/.fastai/data/food-101/images/tiramisu/63187.jpg')\n",
    "img.show();"
   ]
  },
  {
   "cell_type": "code",
   "execution_count": null,
   "metadata": {},
   "outputs": [],
   "source": [
    "df_train=pd.read_json('/home/mendhak/.fastai/data/food-101/train.json')\n",
    "df_train.head()"
   ]
  },
  {
   "cell_type": "code",
   "execution_count": null,
   "metadata": {},
   "outputs": [],
   "source": [
    "df_test=pd.read_json('/home/mendhak/.fastai/data/food-101/test.json')\n",
    "df_test.head()"
   ]
  },
  {
   "cell_type": "code",
   "execution_count": null,
   "metadata": {},
   "outputs": [],
   "source": [
    "labelA = 'cheesecake'\n",
    "labelB = 'donuts'\n",
    "labelC = 'panna_cotta'"
   ]
  },
  {
   "cell_type": "code",
   "execution_count": null,
   "metadata": {},
   "outputs": [],
   "source": [
    "for img in get_image_files(foodPath): \n",
    "  if labelA in str(img):\n",
    "   img.rename(f\"{img.parent}/{labelA}-{img.name}\")\n",
    "  elif labelB in str(img):\n",
    "    img.rename(f\"{img.parent}/{labelB}-{img.name}\")\n",
    "  elif labelC in str(img):\n",
    "    img.rename(f\"{img.parent}/{labelC}-{img.name}\")\n",
    "  else: os.remove(img)"
   ]
  },
  {
   "cell_type": "code",
   "execution_count": null,
   "metadata": {},
   "outputs": [],
   "source": [
    "len(get_image_files(foodPath))"
   ]
  },
  {
   "cell_type": "code",
   "execution_count": null,
   "metadata": {},
   "outputs": [],
   "source": [
    "def GetLabel(fileName):\n",
    " return fileName.split('-')[0]\n",
    "\n",
    "GetLabel(\"cheesecake-1092082.jpg\")"
   ]
  },
  {
   "cell_type": "code",
   "execution_count": null,
   "metadata": {},
   "outputs": [],
   "source": [
    "dls = ImageDataLoaders.from_name_func(\n",
    "    foodPath, \n",
    "    get_image_files(foodPath), \n",
    "    valid_pct=0.2, \n",
    "    seed=42,\n",
    "    label_func=GetLabel, \n",
    "    item_tfms=Resize(224))\n",
    "\n",
    "dls.train.show_batch()"
   ]
  },
  {
   "cell_type": "code",
   "execution_count": null,
   "metadata": {},
   "outputs": [],
   "source": [
    "learn = vision_learner(dls, resnet34, metrics=accuracy, pretrained=True)\n",
    "learn.fine_tune(epochs=10)"
   ]
  },
  {
   "cell_type": "code",
   "execution_count": null,
   "metadata": {},
   "outputs": [],
   "source": [
    "url_to_image = input()\n",
    "print(url_to_image)\n",
    "from fastdownload import download_url\n",
    "dest = 'user_input.jpg'\n",
    "download_url(url_to_image, dest, show_progress=False)\n",
    "\n",
    "img = PILImage.create(dest)\n",
    "img.show()\n",
    "\n",
    "label,_,probs = learn.predict(img)\n",
    "\n",
    "print(f\"This is a {label}.\")\n",
    "print(f\"{labelA} {probs[0].item():.2f}\")\n",
    "print(f\"{labelB} {probs[1].item():.2f}\")\n",
    "print(f\"{labelC} {probs[2].item():.2f}\")\n"
   ]
  },
  {
   "cell_type": "code",
   "execution_count": null,
   "metadata": {},
   "outputs": [],
   "source": [
    "import matplotlib.pyplot as plt\n",
    "import matplotlib.image as mpimg\n",
    "\n",
    "for i in range(0,10):\n",
    "  randomIndex = random.randint(0, len(get_image_files(foodPath))-1)\n",
    "  img = mpimg.imread(get_image_files(foodPath)[randomIndex])\n",
    "  label,_,probs = learn.predict(img)\n",
    "\n",
    "  fig = plt.figure()\n",
    "  ax = fig.add_subplot() \n",
    "  imgplot = plt.imshow(img) \n",
    "  ax.set_title(label) \n",
    "\n",
    "  plt.gca().axes.get_yaxis().set_visible(False)\n",
    "  plt.gca().axes.get_xaxis().set_visible(False)"
   ]
  },
  {
   "cell_type": "code",
   "execution_count": null,
   "metadata": {},
   "outputs": [],
   "source": [
    "interp = ClassificationInterpretation.from_learner(learn)\n",
    "interp.plot_confusion_matrix()\n",
    "interp.plot_top_losses(4,nrows=4)"
   ]
  },
  {
   "cell_type": "code",
   "execution_count": null,
   "metadata": {},
   "outputs": [],
   "source": [
    "learn.export() \n",
    "modelPath = get_files(foodPath, '.pkl')[0]\n",
    "modelPath"
   ]
  },
  {
   "cell_type": "code",
   "execution_count": null,
   "metadata": {},
   "outputs": [],
   "source": [
    "learn_inf = load_learner(modelPath)\n",
    "learn_inf.predict(mpimg.imread(get_image_files(foodPath)[1260])) "
   ]
  }
 ],
 "metadata": {
  "kernelspec": {
   "display_name": "fastai",
   "language": "python",
   "name": "python3"
  },
  "language_info": {
   "codemirror_mode": {
    "name": "ipython",
    "version": 3
   },
   "file_extension": ".py",
   "mimetype": "text/x-python",
   "name": "python",
   "nbconvert_exporter": "python",
   "pygments_lexer": "ipython3",
   "version": "3.9.16"
  },
  "orig_nbformat": 4
 },
 "nbformat": 4,
 "nbformat_minor": 2
}
