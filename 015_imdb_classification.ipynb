{
 "cells": [
  {
   "cell_type": "code",
   "execution_count": 1,
   "metadata": {},
   "outputs": [],
   "source": [
    "# Workaround for training output not visible in JupyterNotebook https://github.com/microsoft/vscode-jupyter/issues/13163\n",
    "from IPython.display import clear_output, DisplayHandle\n",
    "def update_patch(self, obj):\n",
    "    clear_output(wait=True)\n",
    "    self.display(obj)\n",
    "DisplayHandle.update = update_patch"
   ]
  },
  {
   "cell_type": "code",
   "execution_count": 4,
   "metadata": {},
   "outputs": [
    {
     "data": {
      "text/html": [
       "<table border=\"1\" class=\"dataframe\">\n",
       "  <thead>\n",
       "    <tr style=\"text-align: left;\">\n",
       "      <th>epoch</th>\n",
       "      <th>train_loss</th>\n",
       "      <th>valid_loss</th>\n",
       "      <th>accuracy</th>\n",
       "      <th>time</th>\n",
       "    </tr>\n",
       "  </thead>\n",
       "  <tbody>\n",
       "    <tr>\n",
       "      <td>0</td>\n",
       "      <td>0.310033</td>\n",
       "      <td>0.247090</td>\n",
       "      <td>0.897120</td>\n",
       "      <td>04:00</td>\n",
       "    </tr>\n",
       "    <tr>\n",
       "      <td>1</td>\n",
       "      <td>0.239549</td>\n",
       "      <td>0.234695</td>\n",
       "      <td>0.901960</td>\n",
       "      <td>04:02</td>\n",
       "    </tr>\n",
       "    <tr>\n",
       "      <td>2</td>\n",
       "      <td>0.196830</td>\n",
       "      <td>0.183816</td>\n",
       "      <td>0.928360</td>\n",
       "      <td>04:03</td>\n",
       "    </tr>\n",
       "    <tr>\n",
       "      <td>3</td>\n",
       "      <td>0.146306</td>\n",
       "      <td>0.190744</td>\n",
       "      <td>0.929400</td>\n",
       "      <td>04:04</td>\n",
       "    </tr>\n",
       "  </tbody>\n",
       "</table>"
      ],
      "text/plain": [
       "<IPython.core.display.HTML object>"
      ]
     },
     "metadata": {},
     "output_type": "display_data"
    }
   ],
   "source": [
    "from fastai.text.all import *\n",
    "\n",
    "dls = TextDataLoaders.from_folder(untar_data(URLs.IMDB), valid='test', bs=32)\n",
    "learn = text_classifier_learner(dls, AWD_LSTM, drop_mult=0.5, metrics=accuracy)\n",
    "learn.fine_tune(4, 1e-2)"
   ]
  },
  {
   "cell_type": "code",
   "execution_count": 5,
   "metadata": {},
   "outputs": [
    {
     "data": {
      "text/html": [],
      "text/plain": [
       "<IPython.core.display.HTML object>"
      ]
     },
     "metadata": {},
     "output_type": "display_data"
    },
    {
     "data": {
      "text/plain": [
       "('pos', tensor(1), tensor([0.0012, 0.9988]))"
      ]
     },
     "execution_count": 5,
     "metadata": {},
     "output_type": "execute_result"
    }
   ],
   "source": [
    "learn.predict(\"I really liked that movie!\")"
   ]
  },
  {
   "cell_type": "code",
   "execution_count": 6,
   "metadata": {},
   "outputs": [
    {
     "data": {
      "text/html": [],
      "text/plain": [
       "<IPython.core.display.HTML object>"
      ]
     },
     "metadata": {},
     "output_type": "display_data"
    },
    {
     "data": {
      "text/plain": [
       "('neg', tensor(0), tensor([0.5567, 0.4433]))"
      ]
     },
     "execution_count": 6,
     "metadata": {},
     "output_type": "execute_result"
    }
   ],
   "source": [
    "learn.predict(\"\"\"I usually like these kind of productions where you feel It's more about the daily live of people. Telling a story, but without following the general flow of movie-making. It's a bit like a mockumentary.\n",
    "\n",
    "I really liked Lip in Shameless, so I'm happy to see him back in a good show. And yes, I can see It's a well made show, production wise, in acting and in art-production. It really sets the vibe well.\n",
    "\n",
    "But somehow I just have a hard time to get into this story or characters. It's all brought overly nervous and a bit hyper, especially the first few episodes. I'm somewhat conflicted on how the people respond to Carmy's presence. Sure, there's some bad blood with his cousin and It needs time to adapt to his different perspective of running a kitchen, I got that. But at the same time he's like one of the best chefs of the world and there's no respect for him at all. That takes away from the dynamic of hating the change, but respecting the man, which makes It feel a bit one-dimensional to me. It's all very focused on the conflicts and overly dramatised which doesn't rhyme with the \"realistic\" approach.\n",
    "\n",
    "Also, nothing really interesting happens. It's mostly just a thing that breaks in the kitchen. A hole in the wall, a machine that broke, toilet that leaked etc etc It's not very interesting writing. It's all about the packaging that tries to make It original.\n",
    "\n",
    "It's sort of entertaining, but I wouldn't call this a comedy. And that's fine, but I just wonder what part of It is supposed to be funny.\n",
    "\n",
    "I guess It's just a group of people I have a hard time to relate to, The way they do and talk, what they say, It's all a bit whatever. Which is key for a show that's mostly about the characters. Storytelling is all over the place, so you just pick the information randomly along the way.\n",
    "\n",
    "I want to like It, but I don't really so far.\"\"\")"
   ]
  },
  {
   "cell_type": "code",
   "execution_count": 10,
   "metadata": {},
   "outputs": [
    {
     "data": {
      "text/html": [],
      "text/plain": [
       "<IPython.core.display.HTML object>"
      ]
     },
     "metadata": {},
     "output_type": "display_data"
    },
    {
     "data": {
      "text/plain": [
       "('pos', tensor(1), tensor([0.3262, 0.6738]))"
      ]
     },
     "execution_count": 10,
     "metadata": {},
     "output_type": "execute_result"
    }
   ],
   "source": [
    "learn.predict(\"\"\"if you enjoy unpleasant people shouting this is the show for you. If you do not then go outside and look up. Better? Better. Glad to be of service.\n",
    "\n",
    "This is a critical hit. And this is what bugs me about critics. I have yet to meet anyone that has watched the second episode. Some watched all of the first episode and did not bother with the second. Some did not manage all of the first episode.\n",
    "\n",
    "So why is it so raved about? No, seriously? I have no idea. Is it post-modern? Post-comedy (if there is such a thing)?\n",
    "\n",
    "My review would have been much shorter, but for the weird six hundred characters thing.\"\"\")"
   ]
  },
  {
   "cell_type": "markdown",
   "metadata": {},
   "source": [
    "The original dataset was trained on Wikipedia, but fine tuned further with an IMDB dataset. In the IMDB dataset, 25000 are labeled, 25000 are in the validation set, and 50000 are unlabeled. Although the original model is trained on Wikipedia, fine tuning it further with the 'target' text set produces better results. This is called Universal Language Model Fit. ULMFIT. "
   ]
  }
 ],
 "metadata": {
  "kernelspec": {
   "display_name": "Python 3",
   "language": "python",
   "name": "python3"
  },
  "language_info": {
   "codemirror_mode": {
    "name": "ipython",
    "version": 3
   },
   "file_extension": ".py",
   "mimetype": "text/x-python",
   "name": "python",
   "nbconvert_exporter": "python",
   "pygments_lexer": "ipython3",
   "version": "3.9.16"
  },
  "orig_nbformat": 4
 },
 "nbformat": 4,
 "nbformat_minor": 2
}
