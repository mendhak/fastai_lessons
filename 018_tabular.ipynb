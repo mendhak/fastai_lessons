{
 "cells": [
  {
   "cell_type": "code",
   "execution_count": 1,
   "metadata": {},
   "outputs": [],
   "source": [
    "# Workaround for training output not visible in JupyterNotebook https://github.com/microsoft/vscode-jupyter/issues/13163\n",
    "from IPython.display import clear_output, DisplayHandle\n",
    "def update_patch(self, obj):\n",
    "    clear_output(wait=True)\n",
    "    self.display(obj)\n",
    "DisplayHandle.update = update_patch"
   ]
  },
  {
   "cell_type": "code",
   "execution_count": 2,
   "metadata": {},
   "outputs": [
    {
     "name": "stdout",
     "output_type": "stream",
     "text": [
      "/bin/bash: /home/mendhak/miniconda3/envs/fastai/lib/libtinfo.so.6: no version information available (required by /bin/bash)\n"
     ]
    }
   ],
   "source": [
    "! pip install -Uqq fastbook kaggle waterfallcharts treeinterpreter dtreeviz\n"
   ]
  },
  {
   "cell_type": "code",
   "execution_count": 3,
   "metadata": {},
   "outputs": [],
   "source": [
    "import fastbook\n",
    "fastbook.setup_book()"
   ]
  },
  {
   "cell_type": "code",
   "execution_count": 4,
   "metadata": {},
   "outputs": [],
   "source": [
    "from fastbook import *\n",
    "from pandas.api.types import is_string_dtype, is_numeric_dtype, is_categorical_dtype\n",
    "from fastai.tabular.all import *\n",
    "from sklearn.ensemble import RandomForestRegressor\n",
    "from sklearn.tree import DecisionTreeRegressor\n",
    "from dtreeviz.trees import *\n",
    "from IPython.display import Image, display_svg, SVG\n",
    "\n",
    "pd.options.display.max_rows = 20\n",
    "pd.options.display.max_columns = 8"
   ]
  },
  {
   "cell_type": "markdown",
   "metadata": {},
   "source": [
    "## Tabular Modeling\n",
    "\n",
    "Take data in the form of a table, like CSV/spreadsheet. Predict the value in one column based on values in other columns. \n",
    "Some data are numerical like age, kilometers. Some data are strings like name, city. The numerical data can be fed directly to models, with optional preprocessing. The other columns need converting into numbers. These kinds of values are called categorical variables. Age, distance, are continuous variables. Categorical varibles can be numerical, or stored as numbers, but don't necessarily have meaning when multiplied. \n",
    "\n",
    "Modern machine learning has two key techniques: ensembles of decision trees (eg random forests, gradient boosting) for strucutred data. And multilayered neural networks (shallow/deep learning) for unstructured data. Decision tree ensembles are easy and fast to train and interpret, less tuning required, and are good at tabular data. The exceptions are high cardinality categorical variables (eg name, with lots of discrete values) and data like plain text... where deep learning may be preferred. The preferred libraries for decision trees are scikit and pandas. "
   ]
  },
  {
   "cell_type": "markdown",
   "metadata": {},
   "source": [
    "Blue Book for bulldozers dataset. The goal is to predict the sale price of a particular piece of heavy equipment at an auction based on usage, equipment type, configuration. \n"
   ]
  },
  {
   "cell_type": "code",
   "execution_count": 5,
   "metadata": {},
   "outputs": [
    {
     "name": "stdout",
     "output_type": "stream",
     "text": [
      "/bin/bash: /home/mendhak/miniconda3/envs/fastai/lib/libtinfo.so.6: no version information available (required by /bin/bash)\n",
      "Looking in indexes: https://pypi.org/simple, https://pypi.ngc.nvidia.com\n",
      "Requirement already satisfied: kaggle in /home/mendhak/miniconda3/envs/fastai/lib/python3.9/site-packages (1.5.16)\n",
      "Requirement already satisfied: certifi in /home/mendhak/miniconda3/envs/fastai/lib/python3.9/site-packages (from kaggle) (2023.7.22)\n",
      "Requirement already satisfied: python-dateutil in /home/mendhak/miniconda3/envs/fastai/lib/python3.9/site-packages (from kaggle) (2.8.2)\n",
      "Requirement already satisfied: urllib3 in /home/mendhak/miniconda3/envs/fastai/lib/python3.9/site-packages (from kaggle) (1.26.15)\n",
      "Requirement already satisfied: tqdm in /home/mendhak/miniconda3/envs/fastai/lib/python3.9/site-packages (from kaggle) (4.65.0)\n",
      "Requirement already satisfied: six>=1.10 in /home/mendhak/miniconda3/envs/fastai/lib/python3.9/site-packages (from kaggle) (1.16.0)\n",
      "Requirement already satisfied: requests in /home/mendhak/miniconda3/envs/fastai/lib/python3.9/site-packages (from kaggle) (2.28.2)\n",
      "Requirement already satisfied: bleach in /home/mendhak/miniconda3/envs/fastai/lib/python3.9/site-packages (from kaggle) (6.0.0)\n",
      "Requirement already satisfied: python-slugify in /home/mendhak/miniconda3/envs/fastai/lib/python3.9/site-packages (from kaggle) (8.0.1)\n",
      "Requirement already satisfied: webencodings in /home/mendhak/miniconda3/envs/fastai/lib/python3.9/site-packages (from bleach->kaggle) (0.5.1)\n",
      "Requirement already satisfied: text-unidecode>=1.3 in /home/mendhak/miniconda3/envs/fastai/lib/python3.9/site-packages (from python-slugify->kaggle) (1.3)\n",
      "Requirement already satisfied: charset-normalizer<4,>=2 in /home/mendhak/miniconda3/envs/fastai/lib/python3.9/site-packages (from requests->kaggle) (3.1.0)\n",
      "Requirement already satisfied: idna<4,>=2.5 in /home/mendhak/miniconda3/envs/fastai/lib/python3.9/site-packages (from requests->kaggle) (3.4)\n"
     ]
    }
   ],
   "source": [
    "!pip install kaggle"
   ]
  },
  {
   "cell_type": "code",
   "execution_count": 6,
   "metadata": {},
   "outputs": [],
   "source": [
    "creds = ''\n",
    "cred_path = Path('~/.kaggle/kaggle.json').expanduser()\n",
    "if not cred_path.exists():\n",
    "    cred_path.parent.mkdir(exist_ok=True)\n",
    "    cred_path.write_text(creds)\n",
    "    cred_path.chmod(0o600)"
   ]
  },
  {
   "cell_type": "code",
   "execution_count": 7,
   "metadata": {},
   "outputs": [
    {
     "data": {
      "text/plain": [
       "Path('/home/mendhak/.fastai/archive/bluebook-for-bulldozers')"
      ]
     },
     "execution_count": 7,
     "metadata": {},
     "output_type": "execute_result"
    }
   ],
   "source": [
    "comp = 'bluebook-for-bulldozers'\n",
    "path = URLs.path(comp)\n",
    "path"
   ]
  },
  {
   "cell_type": "code",
   "execution_count": 8,
   "metadata": {},
   "outputs": [],
   "source": [
    "Path.BASE_PATH = path"
   ]
  },
  {
   "cell_type": "code",
   "execution_count": 9,
   "metadata": {},
   "outputs": [
    {
     "name": "stdout",
     "output_type": "stream",
     "text": [
      "bluebook-for-bulldozers.zip: Skipping, found more recently modified local copy (use --force to force download)\n"
     ]
    },
    {
     "data": {
      "text/plain": [
       "(#7) [Path('median_benchmark.csv'),Path('random_forest_benchmark_test.csv'),Path('Test.csv'),Path('TrainAndValid.csv'),Path('Valid.csv'),Path('Machine_Appendix.csv'),Path('ValidSolution.csv')]"
      ]
     },
     "execution_count": 9,
     "metadata": {},
     "output_type": "execute_result"
    }
   ],
   "source": [
    "from kaggle import api\n",
    "\n",
    "if not path.exists():\n",
    "    path.mkdir(parents=true)\n",
    "\n",
    "api.competition_download_cli(comp, path=path)\n",
    "shutil.unpack_archive(str(path/f'{comp}.zip'), str(path))\n",
    "\n",
    "path.ls(file_type='text')"
   ]
  },
  {
   "cell_type": "markdown",
   "metadata": {},
   "source": [
    "### Look at the data\n",
    "Sales ID, Machine ID, saleprice, saledate. "
   ]
  },
  {
   "cell_type": "code",
   "execution_count": 10,
   "metadata": {},
   "outputs": [
    {
     "data": {
      "text/plain": [
       "Index(['SalesID', 'SalePrice', 'MachineID', 'ModelID', 'datasource',\n",
       "       'auctioneerID', 'YearMade', 'MachineHoursCurrentMeter', 'UsageBand',\n",
       "       'saledate', 'fiModelDesc', 'fiBaseModel', 'fiSecondaryDesc',\n",
       "       'fiModelSeries', 'fiModelDescriptor', 'ProductSize',\n",
       "       'fiProductClassDesc', 'state', 'ProductGroup', 'ProductGroupDesc',\n",
       "       'Drive_System', 'Enclosure', 'Forks', 'Pad_Type', 'Ride_Control',\n",
       "       'Stick', 'Transmission', 'Turbocharged', 'Blade_Extension',\n",
       "       'Blade_Width', 'Enclosure_Type', 'Engine_Horsepower', 'Hydraulics',\n",
       "       'Pushblock', 'Ripper', 'Scarifier', 'Tip_Control', 'Tire_Size',\n",
       "       'Coupler', 'Coupler_System', 'Grouser_Tracks', 'Hydraulics_Flow',\n",
       "       'Track_Type', 'Undercarriage_Pad_Width', 'Stick_Length', 'Thumb',\n",
       "       'Pattern_Changer', 'Grouser_Type', 'Backhoe_Mounting', 'Blade_Type',\n",
       "       'Travel_Controls', 'Differential_Type', 'Steering_Controls'],\n",
       "      dtype='object')"
      ]
     },
     "execution_count": 10,
     "metadata": {},
     "output_type": "execute_result"
    }
   ],
   "source": [
    "df = pd.read_csv(path/'TrainAndValid.csv', low_memory=False)\n",
    "df.columns"
   ]
  },
  {
   "cell_type": "code",
   "execution_count": 11,
   "metadata": {},
   "outputs": [
    {
     "data": {
      "text/plain": [
       "array([nan, 'Medium', 'Small', 'Large / Medium', 'Mini', 'Large', 'Compact'], dtype=object)"
      ]
     },
     "execution_count": 11,
     "metadata": {},
     "output_type": "execute_result"
    }
   ],
   "source": [
    "# An ordinal column - contains values with a natural ordering like size\n",
    "df['ProductSize'].unique()"
   ]
  },
  {
   "cell_type": "code",
   "execution_count": 12,
   "metadata": {},
   "outputs": [
    {
     "data": {
      "text/plain": [
       "0            NaN\n",
       "1         Medium\n",
       "2            NaN\n",
       "3          Small\n",
       "4            NaN\n",
       "           ...  \n",
       "412693      Mini\n",
       "412694      Mini\n",
       "412695      Mini\n",
       "412696      Mini\n",
       "412697      Mini\n",
       "Name: ProductSize, Length: 412698, dtype: category\n",
       "Categories (6, object): ['Large' < 'Large / Medium' < 'Medium' < 'Small' < 'Mini' < 'Compact']"
      ]
     },
     "execution_count": 12,
     "metadata": {},
     "output_type": "execute_result"
    }
   ],
   "source": [
    "# Tell pandas a suitable ordering, large to tiny\n",
    "sizes = 'Large', 'Large / Medium', 'Medium', 'Small', 'Mini', 'Compact'\n",
    "df['ProductSize'] = df['ProductSize'].astype('category')\n",
    "df['ProductSize'].cat.set_categories(sizes, ordered=True)"
   ]
  },
  {
   "cell_type": "code",
   "execution_count": 13,
   "metadata": {},
   "outputs": [],
   "source": [
    "# most important data column is the one we want to predict, known as the dependent variable. \n",
    "# the metric is used to show how accurate the predictions are \n",
    "# in this case the metric to use is root mean squared log error beween actual and predicted auction prices. \n",
    "# to do that the sale price needs to be a log of the price so that rmse will give the right value\n",
    "dep_var = 'SalePrice'\n",
    "df[dep_var] = np.log(df[dep_var])"
   ]
  },
  {
   "cell_type": "markdown",
   "metadata": {},
   "source": [
    "### Decision Trees\n",
    "A decision tree asks a series of questions about the data. A prediction can be made or more questions asked to finally arrive at an answer. \n",
    "Through the series of questions, various data can get grouped together with other data that were 'questioned' in the same way. \n",
    "An implementation is built into scikit learn. \n",
    "For ordinal values (they follow a direction) the bisection would normally be based on a value threshold; for categorical variables it can be divided based on the particular level. \n",
    "Dates are different as they look ordinal but some dates can be different from others based on the model, eg day of week, holiday, month. A good approach then is to replace the date column with date metadata columns - holiday, day, month, year, etc. "
   ]
  },
  {
   "cell_type": "code",
   "execution_count": 14,
   "metadata": {},
   "outputs": [
    {
     "name": "stderr",
     "output_type": "stream",
     "text": [
      "/home/mendhak/miniconda3/envs/fastai/lib/python3.9/site-packages/fastai/tabular/core.py:23: UserWarning: The argument 'infer_datetime_format' is deprecated and will be removed in a future version. A strict version of it is now the default, see https://pandas.pydata.org/pdeps/0004-consistent-to-datetime-parsing.html. You can safely remove this argument.\n"
     ]
    }
   ],
   "source": [
    "df = add_datepart(df, 'saledate') # splits into more date component parts"
   ]
  },
  {
   "cell_type": "code",
   "execution_count": 15,
   "metadata": {},
   "outputs": [
    {
     "name": "stderr",
     "output_type": "stream",
     "text": [
      "/home/mendhak/miniconda3/envs/fastai/lib/python3.9/site-packages/fastai/tabular/core.py:23: UserWarning: The argument 'infer_datetime_format' is deprecated and will be removed in a future version. A strict version of it is now the default, see https://pandas.pydata.org/pdeps/0004-consistent-to-datetime-parsing.html. You can safely remove this argument.\n"
     ]
    }
   ],
   "source": [
    "# do the same for the test set\n",
    "df_test = pd.read_csv(path/'Test.csv', low_memory=False)\n",
    "df_test = add_datepart(df_test, 'saledate')"
   ]
  },
  {
   "cell_type": "code",
   "execution_count": 17,
   "metadata": {},
   "outputs": [
    {
     "name": "stdout",
     "output_type": "stream",
     "text": [
      "saleYear\n",
      "saleMonth\n",
      "saleWeek\n",
      "saleDay\n",
      "saleDayofweek\n",
      "saleDayofyear\n",
      "saleIs_month_end\n",
      "saleIs_month_start\n",
      "saleIs_quarter_end\n",
      "saleIs_quarter_start\n",
      "saleIs_year_end\n",
      "saleIs_year_start\n",
      "saleElapsed\n"
     ]
    }
   ],
   "source": [
    "for c in df.columns:\n",
    "    if c.startswith('sale'):\n",
    "        print(c)"
   ]
  },
  {
   "cell_type": "markdown",
   "metadata": {},
   "source": [
    "More cleaning is required. sklearn doesn't deal with strings or missing data. "
   ]
  },
  {
   "cell_type": "code",
   "execution_count": 18,
   "metadata": {},
   "outputs": [],
   "source": [
    "procs = [Categorify, FillMissing]\n",
    "# categorify replaes category column with a numeric categoric column. \n",
    "# fillmissing replaces missing values with median and creates a bool column to indicate true if a row was filled\n"
   ]
  },
  {
   "cell_type": "code",
   "execution_count": 19,
   "metadata": {},
   "outputs": [],
   "source": [
    "# set up validation and test sets. \n",
    "cond = (df.saleYear < 2011) | (df.saleMonth<10)\n",
    "train_idx = np.where(cond)[0]\n",
    "valid_idx = np.where(~cond)[0]\n",
    "splits = (list(train_idx), list(valid_idx))"
   ]
  },
  {
   "cell_type": "code",
   "execution_count": 21,
   "metadata": {},
   "outputs": [],
   "source": [
    "cont, cat = cont_cat_split(df, 1, dep_var=dep_var) \n",
    "# tabularpandass needs to know which columns are continuous and which are categorical,\n",
    "# so this method helps"
   ]
  },
  {
   "cell_type": "code",
   "execution_count": 23,
   "metadata": {},
   "outputs": [],
   "source": [
    "to = TabularPandas(df, procs, cat, cont, y_names=dep_var, splits=splits)"
   ]
  },
  {
   "cell_type": "code",
   "execution_count": 24,
   "metadata": {},
   "outputs": [
    {
     "data": {
      "text/plain": [
       "(404710, 7988)"
      ]
     },
     "execution_count": 24,
     "metadata": {},
     "output_type": "execute_result"
    }
   ],
   "source": [
    "len(to.train), len(to.valid)"
   ]
  },
  {
   "cell_type": "code",
   "execution_count": 25,
   "metadata": {},
   "outputs": [
    {
     "data": {
      "text/html": [
       "<table border=\"1\" class=\"dataframe\">\n",
       "  <thead>\n",
       "    <tr style=\"text-align: right;\">\n",
       "      <th></th>\n",
       "      <th>UsageBand</th>\n",
       "      <th>fiModelDesc</th>\n",
       "      <th>fiBaseModel</th>\n",
       "      <th>fiSecondaryDesc</th>\n",
       "      <th>fiModelSeries</th>\n",
       "      <th>fiModelDescriptor</th>\n",
       "      <th>ProductSize</th>\n",
       "      <th>fiProductClassDesc</th>\n",
       "      <th>state</th>\n",
       "      <th>ProductGroup</th>\n",
       "      <th>ProductGroupDesc</th>\n",
       "      <th>Drive_System</th>\n",
       "      <th>Enclosure</th>\n",
       "      <th>Forks</th>\n",
       "      <th>Pad_Type</th>\n",
       "      <th>Ride_Control</th>\n",
       "      <th>Stick</th>\n",
       "      <th>Transmission</th>\n",
       "      <th>Turbocharged</th>\n",
       "      <th>Blade_Extension</th>\n",
       "      <th>Blade_Width</th>\n",
       "      <th>Enclosure_Type</th>\n",
       "      <th>Engine_Horsepower</th>\n",
       "      <th>Hydraulics</th>\n",
       "      <th>Pushblock</th>\n",
       "      <th>Ripper</th>\n",
       "      <th>Scarifier</th>\n",
       "      <th>Tip_Control</th>\n",
       "      <th>Tire_Size</th>\n",
       "      <th>Coupler</th>\n",
       "      <th>Coupler_System</th>\n",
       "      <th>Grouser_Tracks</th>\n",
       "      <th>Hydraulics_Flow</th>\n",
       "      <th>Track_Type</th>\n",
       "      <th>Undercarriage_Pad_Width</th>\n",
       "      <th>Stick_Length</th>\n",
       "      <th>Thumb</th>\n",
       "      <th>Pattern_Changer</th>\n",
       "      <th>Grouser_Type</th>\n",
       "      <th>Backhoe_Mounting</th>\n",
       "      <th>Blade_Type</th>\n",
       "      <th>Travel_Controls</th>\n",
       "      <th>Differential_Type</th>\n",
       "      <th>Steering_Controls</th>\n",
       "      <th>saleIs_month_end</th>\n",
       "      <th>saleIs_month_start</th>\n",
       "      <th>saleIs_quarter_end</th>\n",
       "      <th>saleIs_quarter_start</th>\n",
       "      <th>saleIs_year_end</th>\n",
       "      <th>saleIs_year_start</th>\n",
       "      <th>auctioneerID_na</th>\n",
       "      <th>MachineHoursCurrentMeter_na</th>\n",
       "      <th>SalesID</th>\n",
       "      <th>MachineID</th>\n",
       "      <th>ModelID</th>\n",
       "      <th>datasource</th>\n",
       "      <th>auctioneerID</th>\n",
       "      <th>YearMade</th>\n",
       "      <th>MachineHoursCurrentMeter</th>\n",
       "      <th>saleYear</th>\n",
       "      <th>saleMonth</th>\n",
       "      <th>saleWeek</th>\n",
       "      <th>saleDay</th>\n",
       "      <th>saleDayofweek</th>\n",
       "      <th>saleDayofyear</th>\n",
       "      <th>saleElapsed</th>\n",
       "      <th>SalePrice</th>\n",
       "    </tr>\n",
       "  </thead>\n",
       "  <tbody>\n",
       "    <tr>\n",
       "      <th>0</th>\n",
       "      <td>Low</td>\n",
       "      <td>521D</td>\n",
       "      <td>521</td>\n",
       "      <td>D</td>\n",
       "      <td>#na#</td>\n",
       "      <td>#na#</td>\n",
       "      <td>#na#</td>\n",
       "      <td>Wheel Loader - 110.0 to 120.0 Horsepower</td>\n",
       "      <td>Alabama</td>\n",
       "      <td>WL</td>\n",
       "      <td>Wheel Loader</td>\n",
       "      <td>#na#</td>\n",
       "      <td>EROPS w AC</td>\n",
       "      <td>None or Unspecified</td>\n",
       "      <td>#na#</td>\n",
       "      <td>None or Unspecified</td>\n",
       "      <td>#na#</td>\n",
       "      <td>#na#</td>\n",
       "      <td>#na#</td>\n",
       "      <td>#na#</td>\n",
       "      <td>#na#</td>\n",
       "      <td>#na#</td>\n",
       "      <td>#na#</td>\n",
       "      <td>2 Valve</td>\n",
       "      <td>#na#</td>\n",
       "      <td>#na#</td>\n",
       "      <td>#na#</td>\n",
       "      <td>#na#</td>\n",
       "      <td>None or Unspecified</td>\n",
       "      <td>None or Unspecified</td>\n",
       "      <td>#na#</td>\n",
       "      <td>#na#</td>\n",
       "      <td>#na#</td>\n",
       "      <td>#na#</td>\n",
       "      <td>#na#</td>\n",
       "      <td>#na#</td>\n",
       "      <td>#na#</td>\n",
       "      <td>#na#</td>\n",
       "      <td>#na#</td>\n",
       "      <td>#na#</td>\n",
       "      <td>#na#</td>\n",
       "      <td>#na#</td>\n",
       "      <td>Standard</td>\n",
       "      <td>Conventional</td>\n",
       "      <td>False</td>\n",
       "      <td>False</td>\n",
       "      <td>False</td>\n",
       "      <td>False</td>\n",
       "      <td>False</td>\n",
       "      <td>False</td>\n",
       "      <td>False</td>\n",
       "      <td>False</td>\n",
       "      <td>1139246</td>\n",
       "      <td>999089</td>\n",
       "      <td>3157</td>\n",
       "      <td>121</td>\n",
       "      <td>3.0</td>\n",
       "      <td>2004</td>\n",
       "      <td>68.0</td>\n",
       "      <td>2006</td>\n",
       "      <td>11</td>\n",
       "      <td>46</td>\n",
       "      <td>16</td>\n",
       "      <td>3</td>\n",
       "      <td>320</td>\n",
       "      <td>1.163635e+09</td>\n",
       "      <td>11.097410</td>\n",
       "    </tr>\n",
       "    <tr>\n",
       "      <th>1</th>\n",
       "      <td>Low</td>\n",
       "      <td>950FII</td>\n",
       "      <td>950</td>\n",
       "      <td>F</td>\n",
       "      <td>II</td>\n",
       "      <td>#na#</td>\n",
       "      <td>Medium</td>\n",
       "      <td>Wheel Loader - 150.0 to 175.0 Horsepower</td>\n",
       "      <td>North Carolina</td>\n",
       "      <td>WL</td>\n",
       "      <td>Wheel Loader</td>\n",
       "      <td>#na#</td>\n",
       "      <td>EROPS w AC</td>\n",
       "      <td>None or Unspecified</td>\n",
       "      <td>#na#</td>\n",
       "      <td>None or Unspecified</td>\n",
       "      <td>#na#</td>\n",
       "      <td>#na#</td>\n",
       "      <td>#na#</td>\n",
       "      <td>#na#</td>\n",
       "      <td>#na#</td>\n",
       "      <td>#na#</td>\n",
       "      <td>#na#</td>\n",
       "      <td>2 Valve</td>\n",
       "      <td>#na#</td>\n",
       "      <td>#na#</td>\n",
       "      <td>#na#</td>\n",
       "      <td>#na#</td>\n",
       "      <td>23.5</td>\n",
       "      <td>None or Unspecified</td>\n",
       "      <td>#na#</td>\n",
       "      <td>#na#</td>\n",
       "      <td>#na#</td>\n",
       "      <td>#na#</td>\n",
       "      <td>#na#</td>\n",
       "      <td>#na#</td>\n",
       "      <td>#na#</td>\n",
       "      <td>#na#</td>\n",
       "      <td>#na#</td>\n",
       "      <td>#na#</td>\n",
       "      <td>#na#</td>\n",
       "      <td>#na#</td>\n",
       "      <td>Standard</td>\n",
       "      <td>Conventional</td>\n",
       "      <td>False</td>\n",
       "      <td>False</td>\n",
       "      <td>False</td>\n",
       "      <td>False</td>\n",
       "      <td>False</td>\n",
       "      <td>False</td>\n",
       "      <td>False</td>\n",
       "      <td>False</td>\n",
       "      <td>1139248</td>\n",
       "      <td>117657</td>\n",
       "      <td>77</td>\n",
       "      <td>121</td>\n",
       "      <td>3.0</td>\n",
       "      <td>1996</td>\n",
       "      <td>4640.0</td>\n",
       "      <td>2004</td>\n",
       "      <td>3</td>\n",
       "      <td>13</td>\n",
       "      <td>26</td>\n",
       "      <td>4</td>\n",
       "      <td>86</td>\n",
       "      <td>1.080259e+09</td>\n",
       "      <td>10.950807</td>\n",
       "    </tr>\n",
       "    <tr>\n",
       "      <th>2</th>\n",
       "      <td>High</td>\n",
       "      <td>226</td>\n",
       "      <td>226</td>\n",
       "      <td>#na#</td>\n",
       "      <td>#na#</td>\n",
       "      <td>#na#</td>\n",
       "      <td>#na#</td>\n",
       "      <td>Skid Steer Loader - 1351.0 to 1601.0 Lb Operating Capacity</td>\n",
       "      <td>New York</td>\n",
       "      <td>SSL</td>\n",
       "      <td>Skid Steer Loaders</td>\n",
       "      <td>#na#</td>\n",
       "      <td>OROPS</td>\n",
       "      <td>None or Unspecified</td>\n",
       "      <td>#na#</td>\n",
       "      <td>#na#</td>\n",
       "      <td>#na#</td>\n",
       "      <td>#na#</td>\n",
       "      <td>#na#</td>\n",
       "      <td>#na#</td>\n",
       "      <td>#na#</td>\n",
       "      <td>#na#</td>\n",
       "      <td>#na#</td>\n",
       "      <td>Auxiliary</td>\n",
       "      <td>#na#</td>\n",
       "      <td>#na#</td>\n",
       "      <td>#na#</td>\n",
       "      <td>#na#</td>\n",
       "      <td>#na#</td>\n",
       "      <td>None or Unspecified</td>\n",
       "      <td>None or Unspecified</td>\n",
       "      <td>None or Unspecified</td>\n",
       "      <td>Standard</td>\n",
       "      <td>#na#</td>\n",
       "      <td>#na#</td>\n",
       "      <td>#na#</td>\n",
       "      <td>#na#</td>\n",
       "      <td>#na#</td>\n",
       "      <td>#na#</td>\n",
       "      <td>#na#</td>\n",
       "      <td>#na#</td>\n",
       "      <td>#na#</td>\n",
       "      <td>#na#</td>\n",
       "      <td>#na#</td>\n",
       "      <td>False</td>\n",
       "      <td>False</td>\n",
       "      <td>False</td>\n",
       "      <td>False</td>\n",
       "      <td>False</td>\n",
       "      <td>False</td>\n",
       "      <td>False</td>\n",
       "      <td>False</td>\n",
       "      <td>1139249</td>\n",
       "      <td>434808</td>\n",
       "      <td>7009</td>\n",
       "      <td>121</td>\n",
       "      <td>3.0</td>\n",
       "      <td>2001</td>\n",
       "      <td>2838.0</td>\n",
       "      <td>2004</td>\n",
       "      <td>2</td>\n",
       "      <td>9</td>\n",
       "      <td>26</td>\n",
       "      <td>3</td>\n",
       "      <td>57</td>\n",
       "      <td>1.077754e+09</td>\n",
       "      <td>9.210340</td>\n",
       "    </tr>\n",
       "  </tbody>\n",
       "</table>"
      ],
      "text/plain": [
       "<IPython.core.display.HTML object>"
      ]
     },
     "metadata": {},
     "output_type": "display_data"
    }
   ],
   "source": [
    "to.show(3)"
   ]
  },
  {
   "cell_type": "code",
   "execution_count": 26,
   "metadata": {},
   "outputs": [
    {
     "data": {
      "text/html": [
       "<table border=\"1\" class=\"dataframe\">\n",
       "  <thead>\n",
       "    <tr style=\"text-align: right;\">\n",
       "      <th></th>\n",
       "      <th>state</th>\n",
       "      <th>ProductGroup</th>\n",
       "      <th>Drive_System</th>\n",
       "      <th>Enclosure</th>\n",
       "      <th>SalePrice</th>\n",
       "    </tr>\n",
       "  </thead>\n",
       "  <tbody>\n",
       "    <tr>\n",
       "      <th>0</th>\n",
       "      <td>Alabama</td>\n",
       "      <td>WL</td>\n",
       "      <td>#na#</td>\n",
       "      <td>EROPS w AC</td>\n",
       "      <td>11.097410</td>\n",
       "    </tr>\n",
       "    <tr>\n",
       "      <th>1</th>\n",
       "      <td>North Carolina</td>\n",
       "      <td>WL</td>\n",
       "      <td>#na#</td>\n",
       "      <td>EROPS w AC</td>\n",
       "      <td>10.950807</td>\n",
       "    </tr>\n",
       "    <tr>\n",
       "      <th>2</th>\n",
       "      <td>New York</td>\n",
       "      <td>SSL</td>\n",
       "      <td>#na#</td>\n",
       "      <td>OROPS</td>\n",
       "      <td>9.210340</td>\n",
       "    </tr>\n",
       "  </tbody>\n",
       "</table>"
      ],
      "text/plain": [
       "<IPython.core.display.HTML object>"
      ]
     },
     "metadata": {},
     "output_type": "display_data"
    }
   ],
   "source": [
    "to1 = TabularPandas(df, procs, ['state', 'ProductGroup', 'Drive_System', 'Enclosure'], [], y_names=dep_var, splits=splits)\n",
    "to1.show(3)"
   ]
  },
  {
   "cell_type": "code",
   "execution_count": 28,
   "metadata": {},
   "outputs": [
    {
     "data": {
      "text/html": [
       "<div>\n",
       "<style scoped>\n",
       "    .dataframe tbody tr th:only-of-type {\n",
       "        vertical-align: middle;\n",
       "    }\n",
       "\n",
       "    .dataframe tbody tr th {\n",
       "        vertical-align: top;\n",
       "    }\n",
       "\n",
       "    .dataframe thead th {\n",
       "        text-align: right;\n",
       "    }\n",
       "</style>\n",
       "<table border=\"1\" class=\"dataframe\">\n",
       "  <thead>\n",
       "    <tr style=\"text-align: right;\">\n",
       "      <th></th>\n",
       "      <th>SalesID</th>\n",
       "      <th>SalePrice</th>\n",
       "      <th>MachineID</th>\n",
       "      <th>ModelID</th>\n",
       "      <th>...</th>\n",
       "      <th>saleIs_year_start</th>\n",
       "      <th>saleElapsed</th>\n",
       "      <th>auctioneerID_na</th>\n",
       "      <th>MachineHoursCurrentMeter_na</th>\n",
       "    </tr>\n",
       "  </thead>\n",
       "  <tbody>\n",
       "    <tr>\n",
       "      <th>0</th>\n",
       "      <td>1139246</td>\n",
       "      <td>11.097410</td>\n",
       "      <td>999089</td>\n",
       "      <td>3157</td>\n",
       "      <td>...</td>\n",
       "      <td>1</td>\n",
       "      <td>1.163635e+09</td>\n",
       "      <td>1</td>\n",
       "      <td>1</td>\n",
       "    </tr>\n",
       "    <tr>\n",
       "      <th>1</th>\n",
       "      <td>1139248</td>\n",
       "      <td>10.950807</td>\n",
       "      <td>117657</td>\n",
       "      <td>77</td>\n",
       "      <td>...</td>\n",
       "      <td>1</td>\n",
       "      <td>1.080259e+09</td>\n",
       "      <td>1</td>\n",
       "      <td>1</td>\n",
       "    </tr>\n",
       "    <tr>\n",
       "      <th>2</th>\n",
       "      <td>1139249</td>\n",
       "      <td>9.210340</td>\n",
       "      <td>434808</td>\n",
       "      <td>7009</td>\n",
       "      <td>...</td>\n",
       "      <td>1</td>\n",
       "      <td>1.077754e+09</td>\n",
       "      <td>1</td>\n",
       "      <td>1</td>\n",
       "    </tr>\n",
       "  </tbody>\n",
       "</table>\n",
       "<p>3 rows × 67 columns</p>\n",
       "</div>"
      ],
      "text/plain": [
       "   SalesID  SalePrice  MachineID  ModelID  ...  saleIs_year_start   \n",
       "0  1139246  11.097410     999089     3157  ...                  1  \\\n",
       "1  1139248  10.950807     117657       77  ...                  1   \n",
       "2  1139249   9.210340     434808     7009  ...                  1   \n",
       "\n",
       "    saleElapsed  auctioneerID_na  MachineHoursCurrentMeter_na  \n",
       "0  1.163635e+09                1                            1  \n",
       "1  1.080259e+09                1                            1  \n",
       "2  1.077754e+09                1                            1  \n",
       "\n",
       "[3 rows x 67 columns]"
      ]
     },
     "execution_count": 28,
     "metadata": {},
     "output_type": "execute_result"
    }
   ],
   "source": [
    "to.items.head(3)  \n"
   ]
  },
  {
   "cell_type": "code",
   "execution_count": 30,
   "metadata": {},
   "outputs": [
    {
     "data": {
      "text/html": [
       "<div>\n",
       "<style scoped>\n",
       "    .dataframe tbody tr th:only-of-type {\n",
       "        vertical-align: middle;\n",
       "    }\n",
       "\n",
       "    .dataframe tbody tr th {\n",
       "        vertical-align: top;\n",
       "    }\n",
       "\n",
       "    .dataframe thead th {\n",
       "        text-align: right;\n",
       "    }\n",
       "</style>\n",
       "<table border=\"1\" class=\"dataframe\">\n",
       "  <thead>\n",
       "    <tr style=\"text-align: right;\">\n",
       "      <th></th>\n",
       "      <th>state</th>\n",
       "      <th>ProductGroup</th>\n",
       "      <th>Drive_System</th>\n",
       "      <th>Enclosure</th>\n",
       "    </tr>\n",
       "  </thead>\n",
       "  <tbody>\n",
       "    <tr>\n",
       "      <th>0</th>\n",
       "      <td>1</td>\n",
       "      <td>6</td>\n",
       "      <td>0</td>\n",
       "      <td>3</td>\n",
       "    </tr>\n",
       "    <tr>\n",
       "      <th>1</th>\n",
       "      <td>33</td>\n",
       "      <td>6</td>\n",
       "      <td>0</td>\n",
       "      <td>3</td>\n",
       "    </tr>\n",
       "    <tr>\n",
       "      <th>2</th>\n",
       "      <td>32</td>\n",
       "      <td>3</td>\n",
       "      <td>0</td>\n",
       "      <td>6</td>\n",
       "    </tr>\n",
       "  </tbody>\n",
       "</table>\n",
       "</div>"
      ],
      "text/plain": [
       "   state  ProductGroup  Drive_System  Enclosure\n",
       "0      1             6             0          3\n",
       "1     33             6             0          3\n",
       "2     32             3             0          6"
      ]
     },
     "execution_count": 30,
     "metadata": {},
     "output_type": "execute_result"
    }
   ],
   "source": [
    "to1.items[['state', 'ProductGroup', 'Drive_System', 'Enclosure']].head(3)"
   ]
  },
  {
   "cell_type": "code",
   "execution_count": 31,
   "metadata": {},
   "outputs": [
    {
     "data": {
      "text/plain": [
       "['#na#', 'Compact', 'Large', 'Large / Medium', 'Medium', 'Mini', 'Small']"
      ]
     },
     "execution_count": 31,
     "metadata": {},
     "output_type": "execute_result"
    }
   ],
   "source": [
    "to.classes['ProductSize']"
   ]
  },
  {
   "cell_type": "code",
   "execution_count": 32,
   "metadata": {},
   "outputs": [],
   "source": [
    "save_pickle(path/'to.pkl',to)"
   ]
  },
  {
   "cell_type": "code",
   "execution_count": 33,
   "metadata": {},
   "outputs": [],
   "source": [
    "to = load_pickle(path/'to.pkl')"
   ]
  },
  {
   "cell_type": "markdown",
   "metadata": {},
   "source": [
    "### Creating the decision tree\n"
   ]
  },
  {
   "cell_type": "code",
   "execution_count": 34,
   "metadata": {},
   "outputs": [],
   "source": [
    "# define the dependent and independent variables. \n",
    "xs,y = to.train.xs,to.train.y\n",
    "valid_xs,valid_y = to.valid.xs,to.valid.y"
   ]
  },
  {
   "cell_type": "code",
   "execution_count": 35,
   "metadata": {},
   "outputs": [
    {
     "data": {
      "text/html": [
       "<style>#sk-container-id-1 {color: black;background-color: white;}#sk-container-id-1 pre{padding: 0;}#sk-container-id-1 div.sk-toggleable {background-color: white;}#sk-container-id-1 label.sk-toggleable__label {cursor: pointer;display: block;width: 100%;margin-bottom: 0;padding: 0.3em;box-sizing: border-box;text-align: center;}#sk-container-id-1 label.sk-toggleable__label-arrow:before {content: \"▸\";float: left;margin-right: 0.25em;color: #696969;}#sk-container-id-1 label.sk-toggleable__label-arrow:hover:before {color: black;}#sk-container-id-1 div.sk-estimator:hover label.sk-toggleable__label-arrow:before {color: black;}#sk-container-id-1 div.sk-toggleable__content {max-height: 0;max-width: 0;overflow: hidden;text-align: left;background-color: #f0f8ff;}#sk-container-id-1 div.sk-toggleable__content pre {margin: 0.2em;color: black;border-radius: 0.25em;background-color: #f0f8ff;}#sk-container-id-1 input.sk-toggleable__control:checked~div.sk-toggleable__content {max-height: 200px;max-width: 100%;overflow: auto;}#sk-container-id-1 input.sk-toggleable__control:checked~label.sk-toggleable__label-arrow:before {content: \"▾\";}#sk-container-id-1 div.sk-estimator input.sk-toggleable__control:checked~label.sk-toggleable__label {background-color: #d4ebff;}#sk-container-id-1 div.sk-label input.sk-toggleable__control:checked~label.sk-toggleable__label {background-color: #d4ebff;}#sk-container-id-1 input.sk-hidden--visually {border: 0;clip: rect(1px 1px 1px 1px);clip: rect(1px, 1px, 1px, 1px);height: 1px;margin: -1px;overflow: hidden;padding: 0;position: absolute;width: 1px;}#sk-container-id-1 div.sk-estimator {font-family: monospace;background-color: #f0f8ff;border: 1px dotted black;border-radius: 0.25em;box-sizing: border-box;margin-bottom: 0.5em;}#sk-container-id-1 div.sk-estimator:hover {background-color: #d4ebff;}#sk-container-id-1 div.sk-parallel-item::after {content: \"\";width: 100%;border-bottom: 1px solid gray;flex-grow: 1;}#sk-container-id-1 div.sk-label:hover label.sk-toggleable__label {background-color: #d4ebff;}#sk-container-id-1 div.sk-serial::before {content: \"\";position: absolute;border-left: 1px solid gray;box-sizing: border-box;top: 0;bottom: 0;left: 50%;z-index: 0;}#sk-container-id-1 div.sk-serial {display: flex;flex-direction: column;align-items: center;background-color: white;padding-right: 0.2em;padding-left: 0.2em;position: relative;}#sk-container-id-1 div.sk-item {position: relative;z-index: 1;}#sk-container-id-1 div.sk-parallel {display: flex;align-items: stretch;justify-content: center;background-color: white;position: relative;}#sk-container-id-1 div.sk-item::before, #sk-container-id-1 div.sk-parallel-item::before {content: \"\";position: absolute;border-left: 1px solid gray;box-sizing: border-box;top: 0;bottom: 0;left: 50%;z-index: -1;}#sk-container-id-1 div.sk-parallel-item {display: flex;flex-direction: column;z-index: 1;position: relative;background-color: white;}#sk-container-id-1 div.sk-parallel-item:first-child::after {align-self: flex-end;width: 50%;}#sk-container-id-1 div.sk-parallel-item:last-child::after {align-self: flex-start;width: 50%;}#sk-container-id-1 div.sk-parallel-item:only-child::after {width: 0;}#sk-container-id-1 div.sk-dashed-wrapped {border: 1px dashed gray;margin: 0 0.4em 0.5em 0.4em;box-sizing: border-box;padding-bottom: 0.4em;background-color: white;}#sk-container-id-1 div.sk-label label {font-family: monospace;font-weight: bold;display: inline-block;line-height: 1.2em;}#sk-container-id-1 div.sk-label-container {text-align: center;}#sk-container-id-1 div.sk-container {/* jupyter's `normalize.less` sets `[hidden] { display: none; }` but bootstrap.min.css set `[hidden] { display: none !important; }` so we also need the `!important` here to be able to override the default hidden behavior on the sphinx rendered scikit-learn.org. See: https://github.com/scikit-learn/scikit-learn/issues/21755 */display: inline-block !important;position: relative;}#sk-container-id-1 div.sk-text-repr-fallback {display: none;}</style><div id=\"sk-container-id-1\" class=\"sk-top-container\"><div class=\"sk-text-repr-fallback\"><pre>DecisionTreeRegressor(max_leaf_nodes=4)</pre><b>In a Jupyter environment, please rerun this cell to show the HTML representation or trust the notebook. <br />On GitHub, the HTML representation is unable to render, please try loading this page with nbviewer.org.</b></div><div class=\"sk-container\" hidden><div class=\"sk-item\"><div class=\"sk-estimator sk-toggleable\"><input class=\"sk-toggleable__control sk-hidden--visually\" id=\"sk-estimator-id-1\" type=\"checkbox\" checked><label for=\"sk-estimator-id-1\" class=\"sk-toggleable__label sk-toggleable__label-arrow\">DecisionTreeRegressor</label><div class=\"sk-toggleable__content\"><pre>DecisionTreeRegressor(max_leaf_nodes=4)</pre></div></div></div></div></div>"
      ],
      "text/plain": [
       "DecisionTreeRegressor(max_leaf_nodes=4)"
      ]
     },
     "execution_count": 35,
     "metadata": {},
     "output_type": "execute_result"
    }
   ],
   "source": [
    "# create a decision tree\n",
    "m = DecisionTreeRegressor(max_leaf_nodes=4)\n",
    "m.fit(xs, y)"
   ]
  },
  {
   "cell_type": "code",
   "execution_count": 36,
   "metadata": {},
   "outputs": [
    {
     "data": {
      "image/svg+xml": [
       "<?xml version=\"1.0\" encoding=\"UTF-8\" standalone=\"no\"?>\n",
       "<!DOCTYPE svg PUBLIC \"-//W3C//DTD SVG 1.1//EN\"\n",
       " \"http://www.w3.org/Graphics/SVG/1.1/DTD/svg11.dtd\">\n",
       "<!-- Generated by graphviz version 2.49.0 (20210829.0051)\n",
       " -->\n",
       "<!-- Title: Tree Pages: 1 -->\n",
       "<svg width=\"720pt\" height=\"436pt\"\n",
       " viewBox=\"0.00 0.00 720.00 435.77\" xmlns=\"http://www.w3.org/2000/svg\" xmlns:xlink=\"http://www.w3.org/1999/xlink\">\n",
       "<g id=\"graph0\" class=\"graph\" transform=\"scale(1 1) rotate(0) translate(4 432.98)\">\n",
       "<title>Tree</title>\n",
       "<polygon fill=\"white\" stroke=\"transparent\" points=\"-4,4 -4,-432.98 718,-432.98 718,4 -4,4\"/>\n",
       "<!-- 0 -->\n",
       "<g id=\"node1\" class=\"node\">\n",
       "<title>0</title>\n",
       "<path fill=\"#eead7f\" stroke=\"black\" d=\"M614,-424C614,-424 465,-424 465,-424 459,-424 453,-418 453,-412 453,-412 453,-368 453,-368 453,-362 459,-356 465,-356 465,-356 614,-356 614,-356 620,-356 626,-362 626,-368 626,-368 626,-412 626,-412 626,-418 620,-424 614,-424\"/>\n",
       "<text text-anchor=\"start\" x=\"461\" y=\"-408.8\" font-family=\"Helvetica,sans-Serif\" font-size=\"14.00\">Coupler_System ≤ 0.5</text>\n",
       "<text text-anchor=\"start\" x=\"465\" y=\"-393.8\" font-family=\"Helvetica,sans-Serif\" font-size=\"14.00\">squared_error = 0.48</text>\n",
       "<text text-anchor=\"start\" x=\"473\" y=\"-378.8\" font-family=\"Helvetica,sans-Serif\" font-size=\"14.00\">samples = 404710</text>\n",
       "<text text-anchor=\"start\" x=\"494\" y=\"-363.8\" font-family=\"Helvetica,sans-Serif\" font-size=\"14.00\">value = 10.1</text>\n",
       "</g>\n",
       "<!-- 1 -->\n",
       "<g id=\"node2\" class=\"node\">\n",
       "<title>1</title>\n",
       "<path fill=\"#eca36f\" stroke=\"black\" d=\"M427,-304C427,-304 286,-304 286,-304 280,-304 274,-298 274,-292 274,-292 274,-248 274,-248 274,-242 280,-236 286,-236 286,-236 427,-236 427,-236 433,-236 439,-242 439,-248 439,-248 439,-292 439,-292 439,-298 433,-304 427,-304\"/>\n",
       "<text text-anchor=\"start\" x=\"287.5\" y=\"-288.8\" font-family=\"Helvetica,sans-Serif\" font-size=\"14.00\">YearMade ≤ 1991.5</text>\n",
       "<text text-anchor=\"start\" x=\"282\" y=\"-273.8\" font-family=\"Helvetica,sans-Serif\" font-size=\"14.00\">squared_error = 0.42</text>\n",
       "<text text-anchor=\"start\" x=\"290\" y=\"-258.8\" font-family=\"Helvetica,sans-Serif\" font-size=\"14.00\">samples = 360847</text>\n",
       "<text text-anchor=\"start\" x=\"306.5\" y=\"-243.8\" font-family=\"Helvetica,sans-Serif\" font-size=\"14.00\">value = 10.21</text>\n",
       "</g>\n",
       "<!-- 0&#45;&gt;1 -->\n",
       "<g id=\"edge1\" class=\"edge\">\n",
       "<title>0&#45;&gt;1</title>\n",
       "<path fill=\"none\" stroke=\"black\" d=\"M488.04,-355.82C465.82,-341.49 439.68,-324.64 416.58,-309.74\"/>\n",
       "<polygon fill=\"black\" stroke=\"black\" points=\"418.19,-306.62 407.89,-304.14 414.4,-312.5 418.19,-306.62\"/>\n",
       "<text text-anchor=\"middle\" x=\"413.17\" y=\"-324.88\" font-family=\"Helvetica,sans-Serif\" font-size=\"14.00\">True</text>\n",
       "</g>\n",
       "<!-- 2 -->\n",
       "<g id=\"node7\" class=\"node\">\n",
       "<title>2</title>\n",
       "<path fill=\"#ffffff\" stroke=\"black\" d=\"M702,-57.5C702,-57.5 561,-57.5 561,-57.5 555,-57.5 549,-51.5 549,-45.5 549,-45.5 549,-16.5 549,-16.5 549,-10.5 555,-4.5 561,-4.5 561,-4.5 702,-4.5 702,-4.5 708,-4.5 714,-10.5 714,-16.5 714,-16.5 714,-45.5 714,-45.5 714,-51.5 708,-57.5 702,-57.5\"/>\n",
       "<text text-anchor=\"start\" x=\"557\" y=\"-42.3\" font-family=\"Helvetica,sans-Serif\" font-size=\"14.00\">squared_error = 0.12</text>\n",
       "<text text-anchor=\"start\" x=\"569.5\" y=\"-27.3\" font-family=\"Helvetica,sans-Serif\" font-size=\"14.00\">samples = 43863</text>\n",
       "<text text-anchor=\"start\" x=\"586\" y=\"-12.3\" font-family=\"Helvetica,sans-Serif\" font-size=\"14.00\">value = 9.21</text>\n",
       "</g>\n",
       "<!-- 0&#45;&gt;2 -->\n",
       "<g id=\"edge6\" class=\"edge\">\n",
       "<title>0&#45;&gt;2</title>\n",
       "<path fill=\"none\" stroke=\"black\" d=\"M548.07,-355.73C565.38,-288.56 604.38,-137.23 622.25,-67.91\"/>\n",
       "<polygon fill=\"black\" stroke=\"black\" points=\"625.72,-68.46 624.82,-57.9 618.94,-66.71 625.72,-68.46\"/>\n",
       "<text text-anchor=\"middle\" x=\"637.53\" y=\"-75.73\" font-family=\"Helvetica,sans-Serif\" font-size=\"14.00\">False</text>\n",
       "</g>\n",
       "<!-- 3 -->\n",
       "<g id=\"node3\" class=\"node\">\n",
       "<title>3</title>\n",
       "<path fill=\"#f1ba92\" stroke=\"black\" d=\"M153,-57.5C153,-57.5 12,-57.5 12,-57.5 6,-57.5 0,-51.5 0,-45.5 0,-45.5 0,-16.5 0,-16.5 0,-10.5 6,-4.5 12,-4.5 12,-4.5 153,-4.5 153,-4.5 159,-4.5 165,-10.5 165,-16.5 165,-16.5 165,-45.5 165,-45.5 165,-51.5 159,-57.5 153,-57.5\"/>\n",
       "<text text-anchor=\"start\" x=\"8\" y=\"-42.3\" font-family=\"Helvetica,sans-Serif\" font-size=\"14.00\">squared_error = 0.37</text>\n",
       "<text text-anchor=\"start\" x=\"16\" y=\"-27.3\" font-family=\"Helvetica,sans-Serif\" font-size=\"14.00\">samples = 155724</text>\n",
       "<text text-anchor=\"start\" x=\"37\" y=\"-12.3\" font-family=\"Helvetica,sans-Serif\" font-size=\"14.00\">value = 9.97</text>\n",
       "</g>\n",
       "<!-- 1&#45;&gt;3 -->\n",
       "<g id=\"edge2\" class=\"edge\">\n",
       "<title>1&#45;&gt;3</title>\n",
       "<path fill=\"none\" stroke=\"black\" d=\"M313.66,-235.89C282.77,-212.03 246.5,-184 246.5,-184 246.5,-184 165.96,-109.35 117.76,-64.68\"/>\n",
       "<polygon fill=\"black\" stroke=\"black\" points=\"120.03,-62.02 110.32,-57.78 115.28,-67.15 120.03,-62.02\"/>\n",
       "</g>\n",
       "<!-- 4 -->\n",
       "<g id=\"node4\" class=\"node\">\n",
       "<title>4</title>\n",
       "<path fill=\"#e99355\" stroke=\"black\" d=\"M445,-184C445,-184 268,-184 268,-184 262,-184 256,-178 256,-172 256,-172 256,-128 256,-128 256,-122 262,-116 268,-116 268,-116 445,-116 445,-116 451,-116 457,-122 457,-128 457,-128 457,-172 457,-172 457,-178 451,-184 445,-184\"/>\n",
       "<text text-anchor=\"start\" x=\"264\" y=\"-168.8\" font-family=\"Helvetica,sans-Serif\" font-size=\"14.00\">fiProductClassDesc ≤ 13.5</text>\n",
       "<text text-anchor=\"start\" x=\"282\" y=\"-153.8\" font-family=\"Helvetica,sans-Serif\" font-size=\"14.00\">squared_error = 0.37</text>\n",
       "<text text-anchor=\"start\" x=\"290\" y=\"-138.8\" font-family=\"Helvetica,sans-Serif\" font-size=\"14.00\">samples = 205123</text>\n",
       "<text text-anchor=\"start\" x=\"311\" y=\"-123.8\" font-family=\"Helvetica,sans-Serif\" font-size=\"14.00\">value = 10.4</text>\n",
       "</g>\n",
       "<!-- 1&#45;&gt;4 -->\n",
       "<g id=\"edge3\" class=\"edge\">\n",
       "<title>1&#45;&gt;4</title>\n",
       "<path fill=\"none\" stroke=\"black\" d=\"M356.5,-235.82C356.5,-223 356.5,-208.15 356.5,-194.5\"/>\n",
       "<polygon fill=\"black\" stroke=\"black\" points=\"360,-194.34 356.5,-184.34 353,-194.34 360,-194.34\"/>\n",
       "</g>\n",
       "<!-- 5 -->\n",
       "<g id=\"node5\" class=\"node\">\n",
       "<title>5</title>\n",
       "<path fill=\"#eeae80\" stroke=\"black\" d=\"M336,-57.5C336,-57.5 195,-57.5 195,-57.5 189,-57.5 183,-51.5 183,-45.5 183,-45.5 183,-16.5 183,-16.5 183,-10.5 189,-4.5 195,-4.5 195,-4.5 336,-4.5 336,-4.5 342,-4.5 348,-10.5 348,-16.5 348,-16.5 348,-45.5 348,-45.5 348,-51.5 342,-57.5 336,-57.5\"/>\n",
       "<text text-anchor=\"start\" x=\"191\" y=\"-42.3\" font-family=\"Helvetica,sans-Serif\" font-size=\"14.00\">squared_error = 0.21</text>\n",
       "<text text-anchor=\"start\" x=\"203.5\" y=\"-27.3\" font-family=\"Helvetica,sans-Serif\" font-size=\"14.00\">samples = 79749</text>\n",
       "<text text-anchor=\"start\" x=\"215.5\" y=\"-12.3\" font-family=\"Helvetica,sans-Serif\" font-size=\"14.00\">value = 10.09</text>\n",
       "</g>\n",
       "<!-- 4&#45;&gt;5 -->\n",
       "<g id=\"edge4\" class=\"edge\">\n",
       "<title>4&#45;&gt;5</title>\n",
       "<path fill=\"none\" stroke=\"black\" d=\"M330.67,-115.79C318.5,-100.14 304,-81.5 291.77,-65.78\"/>\n",
       "<polygon fill=\"black\" stroke=\"black\" points=\"294.51,-63.6 285.61,-57.86 288.99,-67.9 294.51,-63.6\"/>\n",
       "</g>\n",
       "<!-- 6 -->\n",
       "<g id=\"node6\" class=\"node\">\n",
       "<title>6</title>\n",
       "<path fill=\"#e58139\" stroke=\"black\" d=\"M519,-57.5C519,-57.5 378,-57.5 378,-57.5 372,-57.5 366,-51.5 366,-45.5 366,-45.5 366,-16.5 366,-16.5 366,-10.5 372,-4.5 378,-4.5 378,-4.5 519,-4.5 519,-4.5 525,-4.5 531,-10.5 531,-16.5 531,-16.5 531,-45.5 531,-45.5 531,-51.5 525,-57.5 519,-57.5\"/>\n",
       "<text text-anchor=\"start\" x=\"374\" y=\"-42.3\" font-family=\"Helvetica,sans-Serif\" font-size=\"14.00\">squared_error = 0.38</text>\n",
       "<text text-anchor=\"start\" x=\"382\" y=\"-27.3\" font-family=\"Helvetica,sans-Serif\" font-size=\"14.00\">samples = 125374</text>\n",
       "<text text-anchor=\"start\" x=\"398.5\" y=\"-12.3\" font-family=\"Helvetica,sans-Serif\" font-size=\"14.00\">value = 10.59</text>\n",
       "</g>\n",
       "<!-- 4&#45;&gt;6 -->\n",
       "<g id=\"edge5\" class=\"edge\">\n",
       "<title>4&#45;&gt;6</title>\n",
       "<path fill=\"none\" stroke=\"black\" d=\"M382.62,-115.79C394.92,-100.14 409.58,-81.5 421.94,-65.78\"/>\n",
       "<polygon fill=\"black\" stroke=\"black\" points=\"424.74,-67.88 428.17,-57.86 419.24,-63.55 424.74,-67.88\"/>\n",
       "</g>\n",
       "</g>\n",
       "</svg>\n"
      ],
      "text/plain": [
       "<graphviz.sources.Source at 0x7fa8fc3caa60>"
      ]
     },
     "execution_count": 36,
     "metadata": {},
     "output_type": "execute_result"
    }
   ],
   "source": [
    "draw_tree(m, xs, size=10, leaves_parallel=True, precision=2)"
   ]
  },
  {
   "cell_type": "code",
   "execution_count": 39,
   "metadata": {},
   "outputs": [
    {
     "name": "stdout",
     "output_type": "stream",
     "text": [
      "/bin/bash: /home/mendhak/miniconda3/envs/fastai/lib/libtinfo.so.6: no version information available (required by /bin/bash)\n",
      "Looking in indexes: https://pypi.org/simple, https://pypi.ngc.nvidia.com\n",
      "Requirement already satisfied: dtreeviz in /home/mendhak/miniconda3/envs/fastai/lib/python3.9/site-packages (2.2.2)\n",
      "Requirement already satisfied: pandas in /home/mendhak/miniconda3/envs/fastai/lib/python3.9/site-packages (from dtreeviz) (2.0.0)\n",
      "Requirement already satisfied: matplotlib in /home/mendhak/miniconda3/envs/fastai/lib/python3.9/site-packages (from dtreeviz) (3.7.1)\n",
      "Requirement already satisfied: pytest in /home/mendhak/miniconda3/envs/fastai/lib/python3.9/site-packages (from dtreeviz) (7.4.2)\n",
      "Requirement already satisfied: graphviz>=0.9 in /home/mendhak/miniconda3/envs/fastai/lib/python3.9/site-packages (from dtreeviz) (0.20.1)\n",
      "Requirement already satisfied: numpy in /home/mendhak/miniconda3/envs/fastai/lib/python3.9/site-packages (from dtreeviz) (1.23.5)\n",
      "Requirement already satisfied: scikit-learn in /home/mendhak/miniconda3/envs/fastai/lib/python3.9/site-packages (from dtreeviz) (1.2.2)\n",
      "Requirement already satisfied: colour in /home/mendhak/miniconda3/envs/fastai/lib/python3.9/site-packages (from dtreeviz) (0.1.5)\n",
      "Requirement already satisfied: python-dateutil>=2.7 in /home/mendhak/miniconda3/envs/fastai/lib/python3.9/site-packages (from matplotlib->dtreeviz) (2.8.2)\n",
      "Requirement already satisfied: contourpy>=1.0.1 in /home/mendhak/miniconda3/envs/fastai/lib/python3.9/site-packages (from matplotlib->dtreeviz) (1.0.7)\n",
      "Requirement already satisfied: importlib-resources>=3.2.0 in /home/mendhak/miniconda3/envs/fastai/lib/python3.9/site-packages (from matplotlib->dtreeviz) (5.12.0)\n",
      "Requirement already satisfied: packaging>=20.0 in /home/mendhak/miniconda3/envs/fastai/lib/python3.9/site-packages (from matplotlib->dtreeviz) (23.0)\n",
      "Requirement already satisfied: kiwisolver>=1.0.1 in /home/mendhak/miniconda3/envs/fastai/lib/python3.9/site-packages (from matplotlib->dtreeviz) (1.4.4)\n",
      "Requirement already satisfied: cycler>=0.10 in /home/mendhak/miniconda3/envs/fastai/lib/python3.9/site-packages (from matplotlib->dtreeviz) (0.11.0)\n",
      "Requirement already satisfied: pyparsing>=2.3.1 in /home/mendhak/miniconda3/envs/fastai/lib/python3.9/site-packages (from matplotlib->dtreeviz) (3.0.9)\n",
      "Requirement already satisfied: pillow>=6.2.0 in /home/mendhak/miniconda3/envs/fastai/lib/python3.9/site-packages (from matplotlib->dtreeviz) (9.5.0)\n",
      "Requirement already satisfied: fonttools>=4.22.0 in /home/mendhak/miniconda3/envs/fastai/lib/python3.9/site-packages (from matplotlib->dtreeviz) (4.39.3)\n",
      "Requirement already satisfied: tzdata>=2022.1 in /home/mendhak/miniconda3/envs/fastai/lib/python3.9/site-packages (from pandas->dtreeviz) (2023.3)\n",
      "Requirement already satisfied: pytz>=2020.1 in /home/mendhak/miniconda3/envs/fastai/lib/python3.9/site-packages (from pandas->dtreeviz) (2023.3)\n",
      "Requirement already satisfied: exceptiongroup>=1.0.0rc8 in /home/mendhak/miniconda3/envs/fastai/lib/python3.9/site-packages (from pytest->dtreeviz) (1.1.3)\n",
      "Requirement already satisfied: iniconfig in /home/mendhak/miniconda3/envs/fastai/lib/python3.9/site-packages (from pytest->dtreeviz) (2.0.0)\n",
      "Requirement already satisfied: tomli>=1.0.0 in /home/mendhak/miniconda3/envs/fastai/lib/python3.9/site-packages (from pytest->dtreeviz) (2.0.1)\n",
      "Requirement already satisfied: pluggy<2.0,>=0.12 in /home/mendhak/miniconda3/envs/fastai/lib/python3.9/site-packages (from pytest->dtreeviz) (1.3.0)\n",
      "Requirement already satisfied: threadpoolctl>=2.0.0 in /home/mendhak/miniconda3/envs/fastai/lib/python3.9/site-packages (from scikit-learn->dtreeviz) (3.1.0)\n",
      "Requirement already satisfied: joblib>=1.1.1 in /home/mendhak/miniconda3/envs/fastai/lib/python3.9/site-packages (from scikit-learn->dtreeviz) (1.2.0)\n",
      "Requirement already satisfied: scipy>=1.3.2 in /home/mendhak/miniconda3/envs/fastai/lib/python3.9/site-packages (from scikit-learn->dtreeviz) (1.10.1)\n",
      "Requirement already satisfied: zipp>=3.1.0 in /home/mendhak/miniconda3/envs/fastai/lib/python3.9/site-packages (from importlib-resources>=3.2.0->matplotlib->dtreeviz) (3.15.0)\n",
      "Requirement already satisfied: six>=1.5 in /home/mendhak/miniconda3/envs/fastai/lib/python3.9/site-packages (from python-dateutil>=2.7->matplotlib->dtreeviz) (1.16.0)\n"
     ]
    }
   ],
   "source": [
    "!pip install dtreeviz"
   ]
  },
  {
   "cell_type": "code",
   "execution_count": 43,
   "metadata": {},
   "outputs": [],
   "source": [
    "from dtreeviz import *"
   ]
  },
  {
   "cell_type": "code",
   "execution_count": 44,
   "metadata": {},
   "outputs": [
    {
     "name": "stderr",
     "output_type": "stream",
     "text": [
      "/tmp/ipykernel_61557/1062975964.py:2: DeprecationWarning: dtreeviz() function is deprecated starting from version 2.0. \n",
      " For the same functionality, please use this code instead: \n",
      " m = dtreeviz.model(...) \n",
      " m.view()\n"
     ]
    },
    {
     "ename": "TypeError",
     "evalue": "'int' object is not subscriptable",
     "output_type": "error",
     "traceback": [
      "\u001b[0;31m---------------------------------------------------------------------------\u001b[0m",
      "\u001b[0;31mTypeError\u001b[0m                                 Traceback (most recent call last)",
      "\u001b[1;32m/home/mendhak/Projects/fastai_lessons/018_tabular.ipynb Cell 40\u001b[0m line \u001b[0;36m2\n\u001b[1;32m      <a href='vscode-notebook-cell:/home/mendhak/Projects/fastai_lessons/018_tabular.ipynb#X53sZmlsZQ%3D%3D?line=0'>1</a>\u001b[0m samp_idx \u001b[39m=\u001b[39m np\u001b[39m.\u001b[39mrandom\u001b[39m.\u001b[39mpermutation(\u001b[39mlen\u001b[39m(y))[:\u001b[39m500\u001b[39m]\n\u001b[0;32m----> <a href='vscode-notebook-cell:/home/mendhak/Projects/fastai_lessons/018_tabular.ipynb#X53sZmlsZQ%3D%3D?line=1'>2</a>\u001b[0m dtreeviz(m, xs\u001b[39m.\u001b[39;49miloc[samp_idx], y\u001b[39m.\u001b[39;49miloc[samp_idx], xs\u001b[39m.\u001b[39;49mcolumns, dep_var,\n\u001b[1;32m      <a href='vscode-notebook-cell:/home/mendhak/Projects/fastai_lessons/018_tabular.ipynb#X53sZmlsZQ%3D%3D?line=2'>3</a>\u001b[0m         fontname\u001b[39m=\u001b[39;49m\u001b[39m'\u001b[39;49m\u001b[39mDejaVu Sans\u001b[39;49m\u001b[39m'\u001b[39;49m, scale\u001b[39m=\u001b[39;49m\u001b[39m1.6\u001b[39;49m, label_fontsize\u001b[39m=\u001b[39;49m\u001b[39m10\u001b[39;49m,\n\u001b[1;32m      <a href='vscode-notebook-cell:/home/mendhak/Projects/fastai_lessons/018_tabular.ipynb#X53sZmlsZQ%3D%3D?line=3'>4</a>\u001b[0m         orientation\u001b[39m=\u001b[39;49m\u001b[39m'\u001b[39;49m\u001b[39mLR\u001b[39;49m\u001b[39m'\u001b[39;49m)\n",
      "File \u001b[0;32m~/miniconda3/envs/fastai/lib/python3.9/site-packages/dtreeviz/compatibility.py:254\u001b[0m, in \u001b[0;36mdtreeviz\u001b[0;34m(tree_model, X_train, y_train, feature_names, target_name, class_names, tree_index, precision, orientation, instance_orientation, show_root_edge_labels, show_node_labels, show_just_path, fancy, histtype, highlight_path, X, max_X_features_LR, max_X_features_TD, depth_range_to_display, label_fontsize, ticks_fontsize, fontname, title, title_fontsize, colors, scale)\u001b[0m\n\u001b[1;32m    251\u001b[0m shadow_tree \u001b[39m=\u001b[39m ShadowDecTree\u001b[39m.\u001b[39mget_shadow_tree(tree_model, X_train, y_train, feature_names, target_name, class_names,\n\u001b[1;32m    252\u001b[0m                                             tree_index)\n\u001b[1;32m    253\u001b[0m model \u001b[39m=\u001b[39m DTreeVizAPI(shadow_tree)\n\u001b[0;32m--> 254\u001b[0m \u001b[39mreturn\u001b[39;00m model\u001b[39m.\u001b[39;49mview(precision, orientation,\n\u001b[1;32m    255\u001b[0m                   instance_orientation,\n\u001b[1;32m    256\u001b[0m                   show_root_edge_labels, show_node_labels, show_just_path, fancy, histtype, highlight_path, X,\n\u001b[1;32m    257\u001b[0m                   max_X_features_LR, max_X_features_TD, depth_range_to_display, label_fontsize, ticks_fontsize,\n\u001b[1;32m    258\u001b[0m                   fontname, title, title_fontsize, colors\u001b[39m=\u001b[39;49mcolors, scale\u001b[39m=\u001b[39;49mscale)\n",
      "File \u001b[0;32m~/miniconda3/envs/fastai/lib/python3.9/site-packages/dtreeviz/trees.py:523\u001b[0m, in \u001b[0;36mDTreeVizAPI.view\u001b[0;34m(self, precision, orientation, instance_orientation, show_root_edge_labels, show_node_labels, show_just_path, fancy, histtype, leaftype, highlight_path, x, max_X_features_LR, max_X_features_TD, depth_range_to_display, label_fontsize, ticks_fontsize, fontname, title, title_fontsize, colors, scale)\u001b[0m\n\u001b[1;32m    521\u001b[0m tmp \u001b[39m=\u001b[39m tempfile\u001b[39m.\u001b[39mgettempdir()\n\u001b[1;32m    522\u001b[0m \u001b[39mif\u001b[39;00m x \u001b[39mis\u001b[39;00m \u001b[39mnot\u001b[39;00m \u001b[39mNone\u001b[39;00m:\n\u001b[0;32m--> 523\u001b[0m     path \u001b[39m=\u001b[39m \u001b[39mself\u001b[39;49m\u001b[39m.\u001b[39;49mshadow_tree\u001b[39m.\u001b[39;49mpredict_path(x)\n\u001b[1;32m    524\u001b[0m     highlight_path \u001b[39m=\u001b[39m [n\u001b[39m.\u001b[39mid \u001b[39mfor\u001b[39;00m n \u001b[39min\u001b[39;00m path]\n\u001b[1;32m    526\u001b[0m color_values \u001b[39m=\u001b[39m colors[\u001b[39m'\u001b[39m\u001b[39mclasses\u001b[39m\u001b[39m'\u001b[39m][n_classes]\n",
      "File \u001b[0;32m~/miniconda3/envs/fastai/lib/python3.9/site-packages/dtreeviz/models/shadow_decision_tree.py:340\u001b[0m, in \u001b[0;36mShadowDecTree.predict_path\u001b[0;34m(self, x)\u001b[0m\n\u001b[1;32m    337\u001b[0m     \u001b[39mreturn\u001b[39;00m walk(t\u001b[39m.\u001b[39mright, x, path)\n\u001b[1;32m    339\u001b[0m path \u001b[39m=\u001b[39m []\n\u001b[0;32m--> 340\u001b[0m walk(\u001b[39mself\u001b[39;49m\u001b[39m.\u001b[39;49mroot, x, path)\n\u001b[1;32m    341\u001b[0m \u001b[39mreturn\u001b[39;00m path\n",
      "File \u001b[0;32m~/miniconda3/envs/fastai/lib/python3.9/site-packages/dtreeviz/models/shadow_decision_tree.py:335\u001b[0m, in \u001b[0;36mShadowDecTree.predict_path.<locals>.walk\u001b[0;34m(t, x, path)\u001b[0m\n\u001b[1;32m    333\u001b[0m \u001b[39mif\u001b[39;00m t\u001b[39m.\u001b[39misleaf():\n\u001b[1;32m    334\u001b[0m     \u001b[39mreturn\u001b[39;00m \u001b[39mNone\u001b[39;00m\n\u001b[0;32m--> 335\u001b[0m \u001b[39mif\u001b[39;00m \u001b[39mself\u001b[39m\u001b[39m.\u001b[39mshouldGoLeftAtSplit(t\u001b[39m.\u001b[39mid, x[t\u001b[39m.\u001b[39;49mfeature()]):\n\u001b[1;32m    336\u001b[0m     \u001b[39mreturn\u001b[39;00m walk(t\u001b[39m.\u001b[39mleft, x, path)\n\u001b[1;32m    337\u001b[0m \u001b[39mreturn\u001b[39;00m walk(t\u001b[39m.\u001b[39mright, x, path)\n",
      "\u001b[0;31mTypeError\u001b[0m: 'int' object is not subscriptable"
     ]
    }
   ],
   "source": [
    "samp_idx = np.random.permutation(len(y))[:500]\n",
    "dtreeviz(m, xs.iloc[samp_idx], y.iloc[samp_idx], xs.columns, dep_var,\n",
    "        fontname='DejaVu Sans', scale=1.6, label_fontsize=10,\n",
    "        orientation='LR')"
   ]
  },
  {
   "cell_type": "code",
   "execution_count": 46,
   "metadata": {},
   "outputs": [
    {
     "data": {
      "text/html": [
       "<style>#sk-container-id-2 {color: black;background-color: white;}#sk-container-id-2 pre{padding: 0;}#sk-container-id-2 div.sk-toggleable {background-color: white;}#sk-container-id-2 label.sk-toggleable__label {cursor: pointer;display: block;width: 100%;margin-bottom: 0;padding: 0.3em;box-sizing: border-box;text-align: center;}#sk-container-id-2 label.sk-toggleable__label-arrow:before {content: \"▸\";float: left;margin-right: 0.25em;color: #696969;}#sk-container-id-2 label.sk-toggleable__label-arrow:hover:before {color: black;}#sk-container-id-2 div.sk-estimator:hover label.sk-toggleable__label-arrow:before {color: black;}#sk-container-id-2 div.sk-toggleable__content {max-height: 0;max-width: 0;overflow: hidden;text-align: left;background-color: #f0f8ff;}#sk-container-id-2 div.sk-toggleable__content pre {margin: 0.2em;color: black;border-radius: 0.25em;background-color: #f0f8ff;}#sk-container-id-2 input.sk-toggleable__control:checked~div.sk-toggleable__content {max-height: 200px;max-width: 100%;overflow: auto;}#sk-container-id-2 input.sk-toggleable__control:checked~label.sk-toggleable__label-arrow:before {content: \"▾\";}#sk-container-id-2 div.sk-estimator input.sk-toggleable__control:checked~label.sk-toggleable__label {background-color: #d4ebff;}#sk-container-id-2 div.sk-label input.sk-toggleable__control:checked~label.sk-toggleable__label {background-color: #d4ebff;}#sk-container-id-2 input.sk-hidden--visually {border: 0;clip: rect(1px 1px 1px 1px);clip: rect(1px, 1px, 1px, 1px);height: 1px;margin: -1px;overflow: hidden;padding: 0;position: absolute;width: 1px;}#sk-container-id-2 div.sk-estimator {font-family: monospace;background-color: #f0f8ff;border: 1px dotted black;border-radius: 0.25em;box-sizing: border-box;margin-bottom: 0.5em;}#sk-container-id-2 div.sk-estimator:hover {background-color: #d4ebff;}#sk-container-id-2 div.sk-parallel-item::after {content: \"\";width: 100%;border-bottom: 1px solid gray;flex-grow: 1;}#sk-container-id-2 div.sk-label:hover label.sk-toggleable__label {background-color: #d4ebff;}#sk-container-id-2 div.sk-serial::before {content: \"\";position: absolute;border-left: 1px solid gray;box-sizing: border-box;top: 0;bottom: 0;left: 50%;z-index: 0;}#sk-container-id-2 div.sk-serial {display: flex;flex-direction: column;align-items: center;background-color: white;padding-right: 0.2em;padding-left: 0.2em;position: relative;}#sk-container-id-2 div.sk-item {position: relative;z-index: 1;}#sk-container-id-2 div.sk-parallel {display: flex;align-items: stretch;justify-content: center;background-color: white;position: relative;}#sk-container-id-2 div.sk-item::before, #sk-container-id-2 div.sk-parallel-item::before {content: \"\";position: absolute;border-left: 1px solid gray;box-sizing: border-box;top: 0;bottom: 0;left: 50%;z-index: -1;}#sk-container-id-2 div.sk-parallel-item {display: flex;flex-direction: column;z-index: 1;position: relative;background-color: white;}#sk-container-id-2 div.sk-parallel-item:first-child::after {align-self: flex-end;width: 50%;}#sk-container-id-2 div.sk-parallel-item:last-child::after {align-self: flex-start;width: 50%;}#sk-container-id-2 div.sk-parallel-item:only-child::after {width: 0;}#sk-container-id-2 div.sk-dashed-wrapped {border: 1px dashed gray;margin: 0 0.4em 0.5em 0.4em;box-sizing: border-box;padding-bottom: 0.4em;background-color: white;}#sk-container-id-2 div.sk-label label {font-family: monospace;font-weight: bold;display: inline-block;line-height: 1.2em;}#sk-container-id-2 div.sk-label-container {text-align: center;}#sk-container-id-2 div.sk-container {/* jupyter's `normalize.less` sets `[hidden] { display: none; }` but bootstrap.min.css set `[hidden] { display: none !important; }` so we also need the `!important` here to be able to override the default hidden behavior on the sphinx rendered scikit-learn.org. See: https://github.com/scikit-learn/scikit-learn/issues/21755 */display: inline-block !important;position: relative;}#sk-container-id-2 div.sk-text-repr-fallback {display: none;}</style><div id=\"sk-container-id-2\" class=\"sk-top-container\"><div class=\"sk-text-repr-fallback\"><pre>DecisionTreeRegressor()</pre><b>In a Jupyter environment, please rerun this cell to show the HTML representation or trust the notebook. <br />On GitHub, the HTML representation is unable to render, please try loading this page with nbviewer.org.</b></div><div class=\"sk-container\" hidden><div class=\"sk-item\"><div class=\"sk-estimator sk-toggleable\"><input class=\"sk-toggleable__control sk-hidden--visually\" id=\"sk-estimator-id-2\" type=\"checkbox\" checked><label for=\"sk-estimator-id-2\" class=\"sk-toggleable__label sk-toggleable__label-arrow\">DecisionTreeRegressor</label><div class=\"sk-toggleable__content\"><pre>DecisionTreeRegressor()</pre></div></div></div></div></div>"
      ],
      "text/plain": [
       "DecisionTreeRegressor()"
      ]
     },
     "execution_count": 46,
     "metadata": {},
     "output_type": "execute_result"
    }
   ],
   "source": [
    "#now build a bigger tree \n",
    "m = DecisionTreeRegressor() # no max leafs\n",
    "m.fit(xs, y)"
   ]
  },
  {
   "cell_type": "code",
   "execution_count": 47,
   "metadata": {},
   "outputs": [],
   "source": [
    "def r_mse(pred,y): return round(math.sqrt(((pred-y)**2).mean()), 6)\n",
    "def m_rmse(m, xs, y): return r_mse(m.predict(xs), y)"
   ]
  },
  {
   "cell_type": "code",
   "execution_count": 48,
   "metadata": {},
   "outputs": [
    {
     "data": {
      "text/plain": [
       "0.0"
      ]
     },
     "execution_count": 48,
     "metadata": {},
     "output_type": "execute_result"
    }
   ],
   "source": [
    "m_rmse(m, xs, y)"
   ]
  },
  {
   "cell_type": "code",
   "execution_count": 49,
   "metadata": {},
   "outputs": [
    {
     "data": {
      "text/plain": [
       "0.332819"
      ]
     },
     "execution_count": 49,
     "metadata": {},
     "output_type": "execute_result"
    }
   ],
   "source": [
    "# Check validation set to ensure it's not overfitting\n",
    "m_rmse(m, valid_xs, valid_y)"
   ]
  },
  {
   "cell_type": "code",
   "execution_count": 50,
   "metadata": {},
   "outputs": [
    {
     "data": {
      "text/plain": [
       "(324388, 404710)"
      ]
     },
     "execution_count": 50,
     "metadata": {},
     "output_type": "execute_result"
    }
   ],
   "source": [
    "m.get_n_leaves(), len(xs)\n",
    "# shows nearly as many leaf nodes as data points, which is too many leaf nodes. \n",
    "# tell sklearn to make sure at least 25 points per leaf node. "
   ]
  },
  {
   "cell_type": "code",
   "execution_count": 51,
   "metadata": {},
   "outputs": [
    {
     "data": {
      "text/plain": [
       "(0.210315, 0.262282)"
      ]
     },
     "execution_count": 51,
     "metadata": {},
     "output_type": "execute_result"
    }
   ],
   "source": [
    "m = DecisionTreeRegressor(min_samples_leaf=25)\n",
    "m.fit(to.train.xs, to.train.y)\n",
    "m_rmse(m, xs, y), m_rmse(m, valid_xs, valid_y)"
   ]
  },
  {
   "cell_type": "code",
   "execution_count": 52,
   "metadata": {},
   "outputs": [
    {
     "data": {
      "text/plain": [
       "12432"
      ]
     },
     "execution_count": 52,
     "metadata": {},
     "output_type": "execute_result"
    }
   ],
   "source": [
    "m.get_n_leaves()\n",
    "# better"
   ]
  },
  {
   "cell_type": "markdown",
   "metadata": {},
   "source": []
  }
 ],
 "metadata": {
  "kernelspec": {
   "display_name": "fastai",
   "language": "python",
   "name": "python3"
  },
  "language_info": {
   "codemirror_mode": {
    "name": "ipython",
    "version": 3
   },
   "file_extension": ".py",
   "mimetype": "text/x-python",
   "name": "python",
   "nbconvert_exporter": "python",
   "pygments_lexer": "ipython3",
   "version": "3.9.16"
  },
  "orig_nbformat": 4
 },
 "nbformat": 4,
 "nbformat_minor": 2
}
